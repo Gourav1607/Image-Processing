{
 "cells": [
  {
   "cell_type": "code",
   "execution_count": 51,
   "metadata": {},
   "outputs": [],
   "source": [
    "import numpy as np"
   ]
  },
  {
   "cell_type": "code",
   "execution_count": 52,
   "metadata": {},
   "outputs": [
    {
     "data": {
      "text/plain": [
       "[[0.35, 0.35, 0.35, 0.35, 0.35, 0.35, 0.35, 0.35],\n",
       " [0.49, 0.42, 0.28, 0.1, -0.1, -0.28, -0.42, -0.49],\n",
       " [0.46, 0.19, -0.19, -0.46, -0.46, -0.19, 0.19, 0.46],\n",
       " [0.42, -0.1, -0.49, -0.28, 0.28, 0.49, 0.1, -0.42],\n",
       " [0.35, -0.35, -0.35, 0.35, 0.35, -0.35, -0.35, 0.35],\n",
       " [0.28, -0.49, 0.1, 0.42, -0.42, -0.1, 0.49, -0.28],\n",
       " [0.19, -0.46, 0.46, -0.19, -0.19, 0.46, -0.46, 0.19],\n",
       " [0.1, -0.28, 0.42, -0.49, 0.49, -0.42, 0.28, -0.1]]"
      ]
     },
     "execution_count": 52,
     "metadata": {},
     "output_type": "execute_result"
    }
   ],
   "source": [
    "basismat = [[0.35, 0.35, 0.35, 0.35, 0.35, 0.35, 0.35, 0.35],\n",
    "            [0.49, 0.42, 0.28, 0.10, -0.10, -0.28, -0.42, -0.49],\n",
    "            [0.46, 0.19, -0.19, -0.46, -0.46, -0.19, 0.19, 0.46],\n",
    "            [0.42, -0.10, -0.49, -0.28, 0.28, 0.49, 0.10, -0.42],\n",
    "            [0.35, -0.35, -0.35, 0.35, 0.35, -0.35, -0.35, 0.35],\n",
    "            [0.28, -0.49, 0.10, 0.42, -0.42, -0.10, 0.49, -0.28],\n",
    "            [0.19, -0.46, 0.46, -0.19, -0.19, 0.46, -0.46, 0.19],\n",
    "            [0.10, -0.28, 0.42, -0.49, 0.49, -0.42, 0.28, -0.10]]\n",
    "basismat"
   ]
  },
  {
   "cell_type": "code",
   "execution_count": 53,
   "metadata": {},
   "outputs": [
    {
     "data": {
      "text/plain": [
       "[0, 0, 0, 1, 1, 0, 0, 0]"
      ]
     },
     "execution_count": 53,
     "metadata": {},
     "output_type": "execute_result"
    }
   ],
   "source": [
    "fx = [0, 0, 0, 1, 1, 0, 0, 0]\n",
    "fx"
   ]
  },
  {
   "cell_type": "code",
   "execution_count": 54,
   "metadata": {},
   "outputs": [
    {
     "data": {
      "text/plain": [
       "array([ 0.7 ,  0.  , -0.92,  0.  ,  0.7 ,  0.  , -0.38,  0.  ])"
      ]
     },
     "execution_count": 54,
     "metadata": {},
     "output_type": "execute_result"
    }
   ],
   "source": [
    "res = np.matmul(basismat, fx)\n",
    "res"
   ]
  },
  {
   "cell_type": "code",
   "execution_count": 55,
   "metadata": {},
   "outputs": [
    {
     "name": "stdout",
     "output_type": "stream",
     "text": [
      "[-5.40000000e-03 -1.28785871e-18 -2.64677169e-17  9.85400000e-01\n",
      "  9.85400000e-01 -2.64677169e-17 -1.28785871e-18 -5.40000000e-03]\n",
      "[-0. -0. -0.  1.  1. -0. -0. -0.]\n"
     ]
    }
   ],
   "source": [
    "res2 = np.matmul(res, basismat)\n",
    "print(res2)\n",
    "print(np.round(res2))"
   ]
  },
  {
   "cell_type": "code",
   "execution_count": 56,
   "metadata": {},
   "outputs": [
    {
     "data": {
      "text/plain": [
       "array([0.7, 0. , 0. , 0. , 0. , 0. , 0. , 0. ])"
      ]
     },
     "execution_count": 56,
     "metadata": {},
     "output_type": "execute_result"
    }
   ],
   "source": [
    "res[2:] = 0\n",
    "res"
   ]
  },
  {
   "cell_type": "code",
   "execution_count": 57,
   "metadata": {},
   "outputs": [
    {
     "name": "stdout",
     "output_type": "stream",
     "text": [
      "[0.245 0.245 0.245 0.245 0.245 0.245 0.245 0.245]\n",
      "[0. 0. 0. 0. 0. 0. 0. 0.]\n"
     ]
    }
   ],
   "source": [
    "res2 = np.matmul(res, basismat)\n",
    "print(res2)\n",
    "print(np.round(res2))"
   ]
  },
  {
   "cell_type": "code",
   "execution_count": null,
   "metadata": {},
   "outputs": [],
   "source": []
  }
 ],
 "metadata": {
  "kernelspec": {
   "display_name": "Python 3",
   "language": "python",
   "name": "python3"
  },
  "language_info": {
   "codemirror_mode": {
    "name": "ipython",
    "version": 3
   },
   "file_extension": ".py",
   "mimetype": "text/x-python",
   "name": "python",
   "nbconvert_exporter": "python",
   "pygments_lexer": "ipython3",
   "version": "3.7.3"
  }
 },
 "nbformat": 4,
 "nbformat_minor": 2
}
